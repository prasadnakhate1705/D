{
 "cells": [
  {
   "cell_type": "code",
   "execution_count": 1,
   "id": "006ef723",
   "metadata": {},
   "outputs": [],
   "source": [
    "from textblob import TextBlob\n",
    "import nltk"
   ]
  },
  {
   "cell_type": "code",
   "execution_count": 2,
   "id": "f9002118",
   "metadata": {},
   "outputs": [],
   "source": [
    "b = TextBlob('I havv good spelling')"
   ]
  },
  {
   "cell_type": "code",
   "execution_count": 3,
   "id": "242cc4cf",
   "metadata": {},
   "outputs": [
    {
     "data": {
      "text/plain": [
       "TextBlob(\"I have good spelling\")"
      ]
     },
     "execution_count": 3,
     "metadata": {},
     "output_type": "execute_result"
    }
   ],
   "source": [
    "b.correct()"
   ]
  },
  {
   "cell_type": "code",
   "execution_count": 4,
   "id": "d921cea3",
   "metadata": {},
   "outputs": [
    {
     "name": "stderr",
     "output_type": "stream",
     "text": [
      "[nltk_data] Downloading package punkt to\n",
      "[nltk_data]     C:\\Users\\Lenovo\\AppData\\Roaming\\nltk_data...\n",
      "[nltk_data]   Package punkt is already up-to-date!\n"
     ]
    },
    {
     "data": {
      "text/plain": [
       "True"
      ]
     },
     "execution_count": 4,
     "metadata": {},
     "output_type": "execute_result"
    }
   ],
   "source": [
    "import nltk\n",
    "nltk.download('punkt')\n"
   ]
  },
  {
   "cell_type": "code",
   "execution_count": 5,
   "id": "e1c29c94",
   "metadata": {},
   "outputs": [],
   "source": [
    "b1 = TextBlob(\"beautiful is better than  ugly.\"\n",
    "             \"Explicit is bettern than implicit.\"\n",
    "             \"simple is better than complex.\")"
   ]
  },
  {
   "cell_type": "code",
   "execution_count": 6,
   "id": "2f0a5bca",
   "metadata": {},
   "outputs": [
    {
     "data": {
      "text/plain": [
       "WordList(['beautiful', 'is', 'better', 'than', 'ugly.Explicit', 'is', 'bettern', 'than', 'implicit.simple', 'is', 'better', 'than', 'complex'])"
      ]
     },
     "execution_count": 6,
     "metadata": {},
     "output_type": "execute_result"
    }
   ],
   "source": [
    "b1.words"
   ]
  },
  {
   "cell_type": "code",
   "execution_count": 7,
   "id": "551fa5d0",
   "metadata": {},
   "outputs": [
    {
     "data": {
      "text/plain": [
       "[Sentence(\"beautiful is better than  ugly.Explicit is bettern than implicit.simple is better than complex.\")]"
      ]
     },
     "execution_count": 7,
     "metadata": {},
     "output_type": "execute_result"
    }
   ],
   "source": [
    "b1.sentences"
   ]
  },
  {
   "cell_type": "code",
   "execution_count": 8,
   "id": "eb168bec",
   "metadata": {},
   "outputs": [
    {
     "data": {
      "text/plain": [
       "WordList(['use', '4', 'spaces', 'per', 'indentation', 'level'])"
      ]
     },
     "execution_count": 8,
     "metadata": {},
     "output_type": "execute_result"
    }
   ],
   "source": [
    "sentence = TextBlob(\"use 4 spaces per indentation level\")\n",
    "sentence.words"
   ]
  },
  {
   "cell_type": "code",
   "execution_count": 9,
   "id": "bec1050a",
   "metadata": {},
   "outputs": [
    {
     "data": {
      "text/plain": [
       "'space'"
      ]
     },
     "execution_count": 9,
     "metadata": {},
     "output_type": "execute_result"
    }
   ],
   "source": [
    "sentence.words[2].singularize()"
   ]
  },
  {
   "cell_type": "code",
   "execution_count": 10,
   "id": "cd1678bb",
   "metadata": {},
   "outputs": [
    {
     "data": {
      "text/plain": [
       "'levels'"
      ]
     },
     "execution_count": 10,
     "metadata": {},
     "output_type": "execute_result"
    }
   ],
   "source": [
    "sentence.words[5].pluralize()"
   ]
  },
  {
   "cell_type": "code",
   "execution_count": 11,
   "id": "c7bc2bd5",
   "metadata": {},
   "outputs": [
    {
     "data": {
      "text/plain": [
       "WordList(['cat', 'dog', 'octopus'])"
      ]
     },
     "execution_count": 11,
     "metadata": {},
     "output_type": "execute_result"
    }
   ],
   "source": [
    "animals=TextBlob(\"cat dog octopus\")\n",
    "animals.words"
   ]
  },
  {
   "cell_type": "code",
   "execution_count": 12,
   "id": "a5259a5b",
   "metadata": {},
   "outputs": [
    {
     "data": {
      "text/plain": [
       "WordList(['cats', 'dogs', 'octopodes'])"
      ]
     },
     "execution_count": 12,
     "metadata": {},
     "output_type": "execute_result"
    }
   ],
   "source": [
    "animals.words.pluralize()"
   ]
  },
  {
   "cell_type": "code",
   "execution_count": 13,
   "id": "7ecd4554",
   "metadata": {},
   "outputs": [
    {
     "data": {
      "text/plain": [
       "3"
      ]
     },
     "execution_count": 13,
     "metadata": {},
     "output_type": "execute_result"
    }
   ],
   "source": [
    "sen = TextBlob(\"We are no longer the knights who say Ni.\" \"we are now the knights who say Ekki ekki ekki ptang\")\n",
    "sen.word_counts['ekki']"
   ]
  },
  {
   "cell_type": "code",
   "execution_count": 14,
   "id": "4bd39cc2",
   "metadata": {},
   "outputs": [
    {
     "data": {
      "text/plain": [
       "3"
      ]
     },
     "execution_count": 14,
     "metadata": {},
     "output_type": "execute_result"
    }
   ],
   "source": [
    "sen.words.count('ekki')"
   ]
  },
  {
   "cell_type": "code",
   "execution_count": 15,
   "id": "4e98a420",
   "metadata": {},
   "outputs": [
    {
     "data": {
      "text/plain": [
       "2"
      ]
     },
     "execution_count": 15,
     "metadata": {},
     "output_type": "execute_result"
    }
   ],
   "source": [
    "sen.words.count('ekki', case_sensitive=True)"
   ]
  },
  {
   "cell_type": "code",
   "execution_count": 16,
   "id": "5c198c16",
   "metadata": {},
   "outputs": [
    {
     "name": "stdout",
     "output_type": "stream",
     "text": [
      "And/CC/O/O now/RB/B-ADVP/O for/IN/B-PP/B-PNP something/NN/B-NP/I-PNP comletely/RB/B-ADJP/O different/JJ/I-ADJP/O ././O/O\n"
     ]
    }
   ],
   "source": [
    "b=TextBlob(\"And now for something comletely different. \")\n",
    "print(b.parse())"
   ]
  },
  {
   "cell_type": "code",
   "execution_count": 17,
   "id": "af68caa9",
   "metadata": {},
   "outputs": [
    {
     "data": {
      "text/plain": [
       "TextBlob(\"beautiful is better\")"
      ]
     },
     "execution_count": 17,
     "metadata": {},
     "output_type": "execute_result"
    }
   ],
   "source": [
    "b1[0:19]"
   ]
  },
  {
   "cell_type": "code",
   "execution_count": 18,
   "id": "3657c333",
   "metadata": {},
   "outputs": [
    {
     "data": {
      "text/plain": [
       "TextBlob(\"BEAUTIFUL IS BETTER THAN  UGLY.EXPLICIT IS BETTERN THAN IMPLICIT.SIMPLE IS BETTER THAN COMPLEX.\")"
      ]
     },
     "execution_count": 18,
     "metadata": {},
     "output_type": "execute_result"
    }
   ],
   "source": [
    "b1.upper()"
   ]
  },
  {
   "cell_type": "code",
   "execution_count": 19,
   "id": "0c7018f5",
   "metadata": {},
   "outputs": [
    {
     "data": {
      "text/plain": [
       "65"
      ]
     },
     "execution_count": 19,
     "metadata": {},
     "output_type": "execute_result"
    }
   ],
   "source": [
    "b1.find('simple')"
   ]
  },
  {
   "cell_type": "code",
   "execution_count": 20,
   "id": "2932b713",
   "metadata": {},
   "outputs": [
    {
     "data": {
      "text/plain": [
       "True"
      ]
     },
     "execution_count": 20,
     "metadata": {},
     "output_type": "execute_result"
    }
   ],
   "source": [
    "apple_blob = TextBlob('apples')\n",
    "banana_blob = TextBlob('bananas')\n",
    "apple_blob<banana_blob"
   ]
  },
  {
   "cell_type": "code",
   "execution_count": 21,
   "id": "50379174",
   "metadata": {},
   "outputs": [
    {
     "data": {
      "text/plain": [
       "[WordList(['now', 'is', 'better']),\n",
       " WordList(['is', 'better', 'than']),\n",
       " WordList(['better', 'than', 'never'])]"
      ]
     },
     "execution_count": 21,
     "metadata": {},
     "output_type": "execute_result"
    }
   ],
   "source": [
    "blob = TextBlob(\"now is better than never\")\n",
    "blob.ngrams(n=3)"
   ]
  },
  {
   "cell_type": "code",
   "execution_count": 22,
   "id": "ef822c9e",
   "metadata": {},
   "outputs": [
    {
     "data": {
      "text/plain": [
       "'Good day everyone, how are you all today? its fun learning data analysis. Hope you all are practicing well'"
      ]
     },
     "execution_count": 22,
     "metadata": {},
     "output_type": "execute_result"
    }
   ],
   "source": [
    "from nltk import tokenize\n",
    "from nltk.tokenize import sent_tokenize\n",
    "text = \"\"\"Good day everyone, how are you all today? its fun learning data analysis. Hope you all are practicing well\"\"\"\n",
    "text"
   ]
  },
  {
   "cell_type": "code",
   "execution_count": 23,
   "id": "dc6141ef",
   "metadata": {},
   "outputs": [],
   "source": [
    "tokenizer_text = sent_tokenize(text)"
   ]
  },
  {
   "cell_type": "code",
   "execution_count": 24,
   "id": "fedb5c32",
   "metadata": {},
   "outputs": [
    {
     "name": "stdout",
     "output_type": "stream",
     "text": [
      "['Good day everyone, how are you all today?', 'its fun learning data analysis.', 'Hope you all are practicing well']\n"
     ]
    }
   ],
   "source": [
    "print(tokenizer_text)"
   ]
  },
  {
   "cell_type": "code",
   "execution_count": 25,
   "id": "8cbc8037",
   "metadata": {},
   "outputs": [
    {
     "name": "stdout",
     "output_type": "stream",
     "text": [
      "['Good', 'day', 'everyone', ',', 'how', 'are', 'you', 'all', 'today', '?', 'its', 'fun', 'learning', 'data', 'analysis', '.', 'Hope', 'you', 'all', 'are', 'practicing', 'well']\n"
     ]
    }
   ],
   "source": [
    "from nltk.tokenize import word_tokenize\n",
    "tokenizer_word = word_tokenize(text)\n",
    "print(tokenizer_word)"
   ]
  },
  {
   "cell_type": "code",
   "execution_count": 26,
   "id": "eae65c98",
   "metadata": {},
   "outputs": [
    {
     "name": "stdout",
     "output_type": "stream",
     "text": [
      "<FreqDist with 19 samples and 22 outcomes>\n"
     ]
    }
   ],
   "source": [
    "from nltk.probability import FreqDist\n",
    "fdist=FreqDist(tokenizer_word)\n",
    "print(fdist)"
   ]
  },
  {
   "cell_type": "code",
   "execution_count": 27,
   "id": "c04d9bd0",
   "metadata": {},
   "outputs": [
    {
     "data": {
      "text/plain": [
       "[('are', 2), ('you', 2), ('all', 2), ('Good', 1)]"
      ]
     },
     "execution_count": 27,
     "metadata": {},
     "output_type": "execute_result"
    }
   ],
   "source": [
    "fdist.most_common(4)"
   ]
  },
  {
   "cell_type": "code",
   "execution_count": 28,
   "id": "9088c0b1",
   "metadata": {},
   "outputs": [
    {
     "data": {
      "image/png": "[encoded data removed]",
      "text/plain": [
       "<Figure size 640x480 with 1 Axes>"
      ]
     },
     "metadata": {},
     "output_type": "display_data"
    }
   ],
   "source": [
    "import matplotlib.pyplot as plt\n",
    "fdist.plot(30, cumulative=False)\n",
    "plt.show()"
   ]
  },
  {
   "cell_type": "code",
   "execution_count": 29,
   "id": "c0c83566",
   "metadata": {},
   "outputs": [
    {
     "name": "stderr",
     "output_type": "stream",
     "text": [
      "[nltk_data] Downloading package stopwords to\n",
      "[nltk_data]     C:\\Users\\Lenovo\\AppData\\Roaming\\nltk_data...\n",
      "[nltk_data]   Package stopwords is already up-to-date!\n"
     ]
    },
    {
     "data": {
      "text/plain": [
       "True"
      ]
     },
     "execution_count": 29,
     "metadata": {},
     "output_type": "execute_result"
    }
   ],
   "source": [
    "nltk.download('stopwords')"
   ]
  },
  {
   "cell_type": "code",
   "execution_count": 30,
   "id": "7903e379",
   "metadata": {},
   "outputs": [
    {
     "name": "stdout",
     "output_type": "stream",
     "text": [
      "{\"shan't\", 've', 'and', 'be', 'through', 'am', 'being', 'they', 'until', 'have', 'myself', 'the', 'but', \"doesn't\", \"needn't\", 'before', 'i', \"you'll\", 'she', \"wasn't\", 'which', 'in', 'our', 'ain', 'itself', 'against', 'themselves', 'while', 'to', \"haven't\", 'll', 'for', 'his', 'herself', 'where', 'does', 'so', 'weren', 'd', 'my', 'yourself', \"that'll\", 'yours', 's', 'we', 'was', 'some', 'then', \"shouldn't\", \"don't\", 'once', 'own', 'couldn', 'her', 'hadn', \"you're\", 'if', 'were', 'can', 'm', 'same', 'didn', 'after', 'did', 'hers', 'from', 'yourselves', 'their', \"should've\", 'or', 'doesn', 'because', 'wasn', 'it', 'out', 'you', \"you've\", 'he', 'its', 'why', \"didn't\", 'having', \"weren't\", 'not', 'now', 'just', 'these', 'than', \"won't\", 're', 'both', 'this', 'very', 'aren', 'are', \"isn't\", 'theirs', 'had', 'those', \"mightn't\", \"hadn't\", 'up', 'between', \"aren't\", 'ours', \"she's\", 'wouldn', 'again', 't', 'them', 'will', \"couldn't\", 'do', 'o', 'how', 'too', 'that', 'won', 'him', 'ourselves', 'above', 'off', 'few', \"you'd\", 'doing', 'all', 'during', 'further', 'here', 'what', 'your', 'a', 'as', 'no', 'such', 'shouldn', 'about', 'an', 'who', 'other', 'mustn', 'at', 'most', 'only', 'haven', 'me', 'on', 'down', 'should', 'more', \"wouldn't\", 'nor', 'needn', 'below', 'been', 'when', 'into', \"mustn't\", 'don', 'under', 'is', 'hasn', 'any', \"hasn't\", \"it's\", 'with', 'shan', 'by', 'y', 'each', 'there', 'himself', 'mightn', 'over', 'whom', 'ma', 'isn', 'of', 'has'}\n"
     ]
    }
   ],
   "source": [
    "from nltk.corpus import stopwords\n",
    "stop_words = set(stopwords.words(\"english\"))\n",
    "print(stop_words)"
   ]
  },
  {
   "cell_type": "code",
   "execution_count": 31,
   "id": "8f201c0a",
   "metadata": {},
   "outputs": [
    {
     "name": "stdout",
     "output_type": "stream",
     "text": [
      "Tokenized sentence :  ['Good', 'day', 'everyone', ',', 'how', 'are', 'you', 'all', 'today', '?', 'its', 'fun', 'learning', 'data', 'analysis', '.', 'Hope', 'you', 'all', 'are', 'practicing', 'well']\n",
      "Filtered sentence :  ['Good', 'day', 'everyone', ',', 'today', '?', 'fun', 'learning', 'data', 'analysis', '.', 'Hope', 'practicing', 'well']\n"
     ]
    }
   ],
   "source": [
    "filtered_sent=[]\n",
    "for w in tokenizer_word:\n",
    "    if w not in stop_words:\n",
    "        filtered_sent.append(w)\n",
    "        \n",
    "print('Tokenized sentence : ', tokenizer_word)\n",
    "print('Filtered sentence : ',filtered_sent)"
   ]
  },
  {
   "cell_type": "code",
   "execution_count": 32,
   "id": "6b2f8caa",
   "metadata": {},
   "outputs": [
    {
     "name": "stdout",
     "output_type": "stream",
     "text": [
      "filtered sentence :  ['Good', 'day', 'everyone', ',', 'today', '?', 'fun', 'learning', 'data', 'analysis', '.', 'Hope', 'practicing', 'well']\n",
      "Stemmed Sentence :  ['good', 'day', 'everyon', ',', 'today', '?', 'fun', 'learn', 'data', 'analysi', '.', 'hope', 'practic', 'well']\n"
     ]
    }
   ],
   "source": [
    "from nltk.stem import PorterStemmer\n",
    "from nltk.tokenize import sent_tokenize, word_tokenize\n",
    "ps = PorterStemmer()\n",
    "stemmed_words=[]\n",
    "for w in filtered_sent:\n",
    "    stemmed_words.append(ps.stem(w))\n",
    "print(\"filtered sentence : \",filtered_sent)\n",
    "print(\"Stemmed Sentence : \", stemmed_words)"
   ]
  },
  {
   "cell_type": "code",
   "execution_count": 33,
   "id": "75a65ad7",
   "metadata": {},
   "outputs": [
    {
     "name": "stderr",
     "output_type": "stream",
     "text": [
      "[nltk_data] Downloading package wordnet to\n",
      "[nltk_data]     C:\\Users\\Lenovo\\AppData\\Roaming\\nltk_data...\n",
      "[nltk_data]   Package wordnet is already up-to-date!\n"
     ]
    },
    {
     "data": {
      "text/plain": [
       "True"
      ]
     },
     "execution_count": 33,
     "metadata": {},
     "output_type": "execute_result"
    }
   ],
   "source": [
    "nltk.download('wordnet')"
   ]
  },
  {
   "cell_type": "code",
   "execution_count": 34,
   "id": "5372e535",
   "metadata": {},
   "outputs": [
    {
     "name": "stderr",
     "output_type": "stream",
     "text": [
      "[nltk_data] Downloading package omw-1.4 to\n",
      "[nltk_data]     C:\\Users\\Lenovo\\AppData\\Roaming\\nltk_data...\n"
     ]
    },
    {
     "data": {
      "text/plain": [
       "True"
      ]
     },
     "execution_count": 34,
     "metadata": {},
     "output_type": "execute_result"
    }
   ],
   "source": [
    "import nltk\n",
    "nltk.download('omw-1.4')"
   ]
  },
  {
   "cell_type": "code",
   "execution_count": 35,
   "id": "ec5381bb",
   "metadata": {},
   "outputs": [
    {
     "name": "stdout",
     "output_type": "stream",
     "text": [
      "Lemmatizer word :  fly\n",
      "Stemmed word :  fli\n"
     ]
    }
   ],
   "source": [
    "from nltk.stem.wordnet import WordNetLemmatizer\n",
    "lem = WordNetLemmatizer()\n",
    "from nltk.stem.porter import PorterStemmer\n",
    "ps = PorterStemmer()\n",
    "word = \"flying\"\n",
    "print(\"Lemmatizer word : \",lem.lemmatize(word,\"v\"))\n",
    "print(\"Stemmed word : \", ps.stem(word))"
   ]
  },
  {
   "cell_type": "code",
   "execution_count": 36,
   "id": "aa3a5249",
   "metadata": {},
   "outputs": [
    {
     "name": "stdout",
     "output_type": "stream",
     "text": [
      "['Albert', 'Einstein', 'was', 'born', 'in', 'ulm', ',', 'Germany', 'in', '1879', '.']\n"
     ]
    }
   ],
   "source": [
    "sent = \"Albert Einstein was born in ulm, Germany in 1879.\"\n",
    "tokens = nltk.word_tokenize(sent)\n",
    "print(tokens)"
   ]
  },
  {
   "cell_type": "code",
   "execution_count": 37,
   "id": "f55e073b",
   "metadata": {},
   "outputs": [
    {
     "name": "stderr",
     "output_type": "stream",
     "text": [
      "[nltk_data] Downloading package averaged_perceptron_tagger to\n",
      "[nltk_data]     C:\\Users\\Lenovo\\AppData\\Roaming\\nltk_data...\n",
      "[nltk_data]   Package averaged_perceptron_tagger is already up-to-\n",
      "[nltk_data]       date!\n"
     ]
    },
    {
     "data": {
      "text/plain": [
       "True"
      ]
     },
     "execution_count": 37,
     "metadata": {},
     "output_type": "execute_result"
    }
   ],
   "source": [
    "nltk.download('averaged_perceptron_tagger')"
   ]
  },
  {
   "cell_type": "code",
   "execution_count": 38,
   "id": "10f0c48e",
   "metadata": {},
   "outputs": [
    {
     "data": {
      "text/plain": [
       "[('Albert', 'NNP'),\n",
       " ('Einstein', 'NNP'),\n",
       " ('was', 'VBD'),\n",
       " ('born', 'VBN'),\n",
       " ('in', 'IN'),\n",
       " ('ulm', 'NN'),\n",
       " (',', ','),\n",
       " ('Germany', 'NNP'),\n",
       " ('in', 'IN'),\n",
       " ('1879', 'CD'),\n",
       " ('.', '.')]"
      ]
     },
     "execution_count": 38,
     "metadata": {},
     "output_type": "execute_result"
    }
   ],
   "source": [
    "nltk.pos_tag(tokens)"
   ]
  },
  {
   "cell_type": "code",
   "execution_count": 39,
   "id": "3c3cb517",
   "metadata": {},
   "outputs": [],
   "source": [
    "from  collections import Counter\n",
    "sentence = \"Texas a&m university in located in Texas\"\n",
    "term_frequency = Counter(sentence.split())"
   ]
  },
  {
   "cell_type": "code",
   "execution_count": 40,
   "id": "27d3bf01",
   "metadata": {},
   "outputs": [
    {
     "data": {
      "text/plain": [
       "Counter({'Texas': 2, 'a&m': 1, 'university': 1, 'in': 2, 'located': 1})"
      ]
     },
     "execution_count": 40,
     "metadata": {},
     "output_type": "execute_result"
    }
   ],
   "source": [
    "term_frequency"
   ]
  },
  {
   "cell_type": "code",
   "execution_count": null,
   "id": "f3dc22e0",
   "metadata": {},
   "outputs": [],
   "source": []
  }
 ],
 "metadata": {
  "kernelspec": {
   "display_name": "Python 3 (ipykernel)",
   "language": "python",
   "name": "python3"
  },
  "language_info": {
   "codemirror_mode": {
    "name": "ipython",
    "version": 3
   },
   "file_extension": ".py",
   "mimetype": "text/x-python",
   "name": "python",
   "nbconvert_exporter": "python",
   "pygments_lexer": "ipython3",
   "version": "3.9.13"
  }
 },
 "nbformat": 4,
 "nbformat_minor": 5
}
